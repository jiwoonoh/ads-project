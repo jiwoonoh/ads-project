{
 "cells": [
  {
   "cell_type": "code",
   "execution_count": 16,
   "id": "94d06331",
   "metadata": {},
   "outputs": [],
   "source": [
    "import os, glob\n",
    "import torch\n",
    "import numpy as np\n",
    "import pandas as pd\n",
    "import matplotlib.pyplot as plt\n",
    "from pydicom import dcmread\n",
    "from PIL import Image"
   ]
  },
  {
   "cell_type": "code",
   "execution_count": 17,
   "id": "d1cece0c",
   "metadata": {},
   "outputs": [],
   "source": [
    "# ─── POINT EVERYTHING AT Extra Storage ───────────────────────────────────────\n",
    "DRIVE_ROOT    = \"/Volumes/Extra Storage\"\n",
    "data_dir      = os.path.join(DRIVE_ROOT, \"test_data\", \"test_data\")         # original DICOMs / images\n",
    "results_dir1  = os.path.join(DRIVE_ROOT, \"local_ADS_data\", \"necessary_sufficient\")    # *_final_mask.pt & *_loss.png\n",
    "results_dir2  = os.path.join(DRIVE_ROOT, \"local_ADS_data\", \"gradcam_results\")  # grad-cam PNGs/JPGs named <prefix>.*\n",
    "output_dir    = os.path.join(DRIVE_ROOT, \"local_ADS_data\", \"combined_results\")\n",
    "input_csv     = os.path.join(DRIVE_ROOT, \"local_ADS_data\", \"best_model_pred_final.csv\")        # CSV with labels\n",
    "csv_search_col = \"dicom_path\"                 # column that contains the prefix in its string\n",
    "csv_label_col  = \"true_label\"            # column holding your ground-truth label\n",
    "# ─────────────────────────────────────────────────────────────────────────────"
   ]
  },
  {
   "cell_type": "code",
   "execution_count": 18,
   "id": "76a2ebd6",
   "metadata": {},
   "outputs": [],
   "source": [
    "os.makedirs(output_dir, exist_ok=True)\n",
    "df = pd.read_csv(input_csv)"
   ]
  },
  {
   "cell_type": "code",
   "execution_count": 19,
   "id": "0bdfa276",
   "metadata": {},
   "outputs": [],
   "source": [
    "\n",
    "def load_gradcam(path):\n",
    "    return np.array(Image.open(path))\n",
    "\n",
    "def load_mask(path):\n",
    "    data = torch.load(path, map_location=\"cpu\")\n",
    "    m = data.get(\"final_mask\", data) if isinstance(data, dict) else data\n",
    "    return m.detach().cpu().numpy().squeeze()\n",
    "\n",
    "def load_original(path):\n",
    "    ext = os.path.splitext(path)[1].lower()\n",
    "    if ext == \".dcm\":\n",
    "        ds  = dcmread(path, force=True)\n",
    "        arr = ds.pixel_array.astype(np.float32)\n",
    "        return (arr - arr.min()) / (np.ptp(arr) + 1e-6)\n",
    "    else:\n",
    "        return np.array(Image.open(path).convert(\"L\"), dtype=np.float32) / 255.0\n",
    "\n",
    "def load_metrics(path):\n",
    "    return np.array(Image.open(path).convert(\"RGB\"))\n",
    "\n",
    "\n"
   ]
  },
  {
   "cell_type": "code",
   "execution_count": null,
   "id": "08b4c839",
   "metadata": {},
   "outputs": [
    {
     "name": "stdout",
     "output_type": "stream",
     "text": [
      "→ saved /Volumes/Extra Storage/local_ADS_data/combined_results/b9a08a39-c53ad784-99673387-d9140a2f-cbc1dbde_summary.png\n",
      "→ saved /Volumes/Extra Storage/local_ADS_data/combined_results/cf8e40e4-13142780-e760eaf4-54a31990-8b748ee4_summary.png\n",
      "→ saved /Volumes/Extra Storage/local_ADS_data/combined_results/5d93739f-badcdac7-b7414fdb-8db69418-9838f396_summary.png\n",
      "→ saved /Volumes/Extra Storage/local_ADS_data/combined_results/b7fc3517-dd72ab6b-fe8826e7-93b3186a-cbc6f8ec_summary.png\n"
     ]
    }
   ],
   "source": [
    "# collect all prefixes from data_dir\n",
    "prefixes = [os.path.splitext(os.path.basename(f))[0]\n",
    "            for f in glob.glob(os.path.join(data_dir, \"*\"))]\n",
    "\n",
    "for prefix in prefixes:\n",
    "    # 1) lookup ground-truth label\n",
    "    row   = df[df[csv_search_col].str.contains(prefix, na=False)]\n",
    "    label = row.iloc[0][csv_label_col] if not row.empty else \"UNKNOWN\"\n",
    "\n",
    "    # 2) define paths\n",
    "    gradcam_glob = glob.glob(os.path.join(results_dir2, f\"{prefix}.*\"))\n",
    "    mask_path    = os.path.join(results_dir1, f\"{prefix}_final_mask.pt\")\n",
    "    metrics_path = os.path.join(results_dir1, f\"{prefix}_metrics.png\")\n",
    "    orig_glob    = glob.glob(os.path.join(data_dir,       f\"{prefix}.*\"))\n",
    "\n",
    "    if not (gradcam_glob and orig_glob and os.path.isfile(mask_path)):\n",
    "        print(f\"[SKIP] missing data for '{prefix}'\")\n",
    "        continue\n",
    "\n",
    "    # 3) load each element\n",
    "    gradcam = load_gradcam(gradcam_glob[0])\n",
    "    orig    = load_original(orig_glob[0])\n",
    "    mask    = load_mask(mask_path)\n",
    "    metrics = load_metrics(metrics_path) if os.path.isfile(metrics_path) else None\n",
    "\n",
    "    # 4) resize mask to match orig if necessary\n",
    "    if mask.shape != orig.shape:\n",
    "        m = Image.fromarray((mask*255).astype(np.uint8))\n",
    "        m = m.resize((orig.shape[1], orig.shape[0]), Image.NEAREST)\n",
    "        mask = np.array(m, dtype=np.float32) / 255.0\n",
    "\n",
    "    # 5) plot 1×4 with updated figure title\n",
    "    fig, axs = plt.subplots(1, 4, figsize=(18,4))\n",
    "    fig.suptitle(f\"DICOM ID: {prefix} | True Label: {label}\", fontsize=18, y=1.02)\n",
    "\n",
    "    axs[0].imshow(gradcam)\n",
    "    axs[0].set_title(\"Grad-CAM\")\n",
    "    axs[1].imshow(mask, cmap=\"viridis\", vmin=0, vmax=1)\n",
    "    axs[1].set_title(\"Final Mask\")\n",
    "    axs[2].imshow(orig, cmap=\"gray\", vmin=0, vmax=1)\n",
    "    axs[2].imshow(mask, cmap=\"jet\", alpha=0.3)\n",
    "    axs[2].set_title(\"Overlay\")\n",
    "    if metrics is not None:\n",
    "        axs[3].imshow(metrics)\n",
    "        axs[3].set_title(\"Metrics\")\n",
    "    else:\n",
    "        axs[3].axis(\"off\")\n",
    "        axs[3].set_title(\"No Metrics\")\n",
    "\n",
    "    for ax in axs:\n",
    "        ax.axis(\"off\")\n",
    "\n",
    "    out_path = os.path.join(output_dir, f\"{prefix}_summary.png\")\n",
    "    plt.savefig(out_path, bbox_inches=\"tight\", pad_inches=0)\n",
    "    plt.close(fig)\n",
    "    print(f\"→ saved {out_path}\")\n"
   ]
  },
  {
   "cell_type": "code",
   "execution_count": null,
   "id": "9df35ce4",
   "metadata": {},
   "outputs": [],
   "source": []
  }
 ],
 "metadata": {
  "kernelspec": {
   "display_name": ".venv",
   "language": "python",
   "name": "python3"
  },
  "language_info": {
   "codemirror_mode": {
    "name": "ipython",
    "version": 3
   },
   "file_extension": ".py",
   "mimetype": "text/x-python",
   "name": "python",
   "nbconvert_exporter": "python",
   "pygments_lexer": "ipython3",
   "version": "3.12.2"
  }
 },
 "nbformat": 4,
 "nbformat_minor": 5
}
